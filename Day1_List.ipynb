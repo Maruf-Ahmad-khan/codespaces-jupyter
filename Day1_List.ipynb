{
 "cells": [
  {
   "cell_type": "code",
   "execution_count": 1,
   "metadata": {},
   "outputs": [
    {
     "name": "stdout",
     "output_type": "stream",
     "text": [
      "I met Afrid when i went to college on my first day Afrid\n"
     ]
    }
   ],
   "source": [
    "# Python Books problem\n",
    "Name = ['Afrid', 'Abhishek', 'Chetan', 'Divyansh', 'Hritik']\n",
    "First_name = f\"I met Afrid when i went to college on my first day {Name[0]}\"\n",
    "print(First_name)"
   ]
  },
  {
   "cell_type": "code",
   "execution_count": 2,
   "metadata": {},
   "outputs": [
    {
     "name": "stdout",
     "output_type": "stream",
     "text": [
      "I met Abhishek when i went to college on my first day Abhishek\n",
      "I met Chetan when i went to college on my first day Chetan\n",
      "I met Divyansh when i went to college on my first day Divyansh\n",
      "I met Hiritik when i went to college on my first day Hritik\n"
     ]
    }
   ],
   "source": [
    "print(f\"I met Abhishek when i went to college on my first day {Name[1]}\")\n",
    "print(f\"I met Chetan when i went to college on my first day {Name[2]}\")\n",
    "print(f\"I met Divyansh when i went to college on my first day {Name[3]}\")\n",
    "print(f\"I met Hiritik when i went to college on my first day {Name[4]}\")"
   ]
  },
  {
   "cell_type": "code",
   "execution_count": 3,
   "metadata": {},
   "outputs": [
    {
     "name": "stdout",
     "output_type": "stream",
     "text": [
      "I would like to own a BMW\n",
      "I would like to own a Audi\n",
      "I would like to own a Honda\n",
      "I would like to own a Tesla\n"
     ]
    }
   ],
   "source": [
    "Cars = ['BMW', 'Audi', 'Honda', 'Tesla']\n",
    "print(f\"I would like to own a {Cars[0]}\")\n",
    "print(f\"I would like to own a {Cars[1]}\")\n",
    "print(f\"I would like to own a {Cars[2]}\")\n",
    "print(f\"I would like to own a {Cars[3]}\")"
   ]
  },
  {
   "cell_type": "code",
   "execution_count": 4,
   "metadata": {},
   "outputs": [
    {
     "name": "stdout",
     "output_type": "stream",
     "text": [
      "['Honda', 'Suzuki', 'Yamaha', 'Ducati']\n",
      "['Honda', 'Suzuki', 'Yamaha']\n",
      "\n",
      "A Ducati is too expensive for me.\n"
     ]
    }
   ],
   "source": [
    "motorcycles = ['Honda', 'Suzuki', 'Yamaha', 'Ducati']\n",
    "print(motorcycles)\n",
    "too_expensive = 'Ducati'\n",
    "motorcycles.remove(too_expensive)\n",
    "print(motorcycles)\n",
    "print(f\"\\nA {too_expensive} is too expensive for me.\")"
   ]
  },
  {
   "cell_type": "code",
   "execution_count": 5,
   "metadata": {},
   "outputs": [
    {
     "name": "stdout",
     "output_type": "stream",
     "text": [
      "I want Afrid, Abhishek and Chetan \n",
      "for today dinner party at my apartment.\n"
     ]
    }
   ],
   "source": [
    "print(f\"I want {Name[0]}, {Name[1]} and {Name[2]} \\nfor today dinner party at my apartment.\")"
   ]
  },
  {
   "cell_type": "code",
   "execution_count": 6,
   "metadata": {},
   "outputs": [
    {
     "name": "stdout",
     "output_type": "stream",
     "text": [
      "['Afrid', 'Abhishek', 'Chetan', 'Divyansh']\n"
     ]
    }
   ],
   "source": [
    "Not_come = \"Hritik\"\n",
    "Name.remove(Not_come)\n",
    "print(Name)"
   ]
  },
  {
   "cell_type": "code",
   "execution_count": 7,
   "metadata": {},
   "outputs": [
    {
     "name": "stdout",
     "output_type": "stream",
     "text": [
      "I want you all guys Afrid, Abhishek, Chetan and Divyansh \n",
      "to come at my home for dinner party.\n"
     ]
    }
   ],
   "source": [
    "print(f\"I want you all guys {Name[0]}, {Name[1]}, {Name[2]} and {Name[3]} \\nto come at my home for dinner party.\")"
   ]
  },
  {
   "cell_type": "code",
   "execution_count": 8,
   "metadata": {},
   "outputs": [
    {
     "name": "stdout",
     "output_type": "stream",
     "text": [
      "The sorted motorcycles are :\n",
      " None\n",
      "['Honda', 'Suzuki', 'Yamaha']\n"
     ]
    }
   ],
   "source": [
    "print(\"The sorted motorcycles are :\\n\", motorcycles.sort())\n",
    "print(motorcycles)"
   ]
  },
  {
   "cell_type": "code",
   "execution_count": 9,
   "metadata": {},
   "outputs": [
    {
     "name": "stdout",
     "output_type": "stream",
     "text": [
      "The reverse string is : \n",
      " nahk\n"
     ]
    }
   ],
   "source": [
    "# DSA problem\n",
    "# Reverse a string\n",
    "def reverse_char(nums):\n",
    "    left = 0\n",
    "    right = len(nums) - 1\n",
    "    while left<=right:\n",
    "        nums[left],nums[right] = nums[right], nums[left]\n",
    "        left +=1\n",
    "        right -=1\n",
    "\n",
    "nums = list(input(\"Enter your name : \\n\"))\n",
    "reverse_char(nums)\n",
    "print(\"The reverse string is : \\n\", ''.join(nums))"
   ]
  },
  {
   "cell_type": "code",
   "execution_count": 11,
   "metadata": {},
   "outputs": [
    {
     "name": "stdout",
     "output_type": "stream",
     "text": [
      "The key value will be : \n",
      " 4\n"
     ]
    }
   ],
   "source": [
    "# Binary search\n",
    "def B_Search(arr, start, end, key):\n",
    "    if start > end:\n",
    "        return - 1\n",
    "    mid = start + (end - start) // 2\n",
    "    if arr[mid]==key:\n",
    "        return mid\n",
    "    elif arr[mid] < key:\n",
    "        start = mid + 1\n",
    "        return B_Search(arr, start, end, key)\n",
    "    else:\n",
    "        end = mid - 1\n",
    "        return B_Search(arr, start, end, key)\n",
    "def main():\n",
    "    arr = [10,20,30,40,50]\n",
    "    start = 0\n",
    "    end = len(arr) - 1\n",
    "    key = 50\n",
    "    ans = B_Search(arr,start, end, key)\n",
    "    print(\"The key value will be : \\n\", ans)\n",
    "\n",
    "if __name__ == \"__main__\":\n",
    "    main()\n"
   ]
  },
  {
   "cell_type": "code",
   "execution_count": 1,
   "metadata": {},
   "outputs": [
    {
     "name": "stdout",
     "output_type": "stream",
     "text": [
      "The count of digits are \n",
      "5\n",
      "The numbers 5 is even :\n"
     ]
    }
   ],
   "source": [
    "# Cont the number of digits and also find the digits are even or odd\n",
    "def count_Number(nums):\n",
    "    if nums == 0:\n",
    "        return 0\n",
    "    return 1 + count_Number(nums // 10)\n",
    "\n",
    "def main():\n",
    "    nums = int(input(\"Enter the digits : \\n\"))\n",
    "    ans = count_Number(nums)\n",
    "    print(f\"The count of digits are \\n{ans}\")\n",
    "\n",
    "    if nums % 2 == 0:\n",
    "        print(f\"The numbers {ans} is even :\")\n",
    "    else:\n",
    "        print(f\"The numbers {ans} is odd:\")\n",
    "\n",
    "if __name__ == \"__main__\":\n",
    "    main()"
   ]
  },
  {
   "cell_type": "code",
   "execution_count": 2,
   "metadata": {},
   "outputs": [
    {
     "name": "stdout",
     "output_type": "stream",
     "text": [
      "5 4 3 2 1 "
     ]
    }
   ],
   "source": [
    "# take input from the key board and print the reverse the number of digits\n",
    "def Reverse(nums):\n",
    "    if nums == 0:\n",
    "        return \n",
    "    print(nums, end = \" \")\n",
    "    Reverse(nums - 1)\n",
    "\n",
    "def main():\n",
    "    nums = int(input(\"Enter a number : \\n\"))\n",
    "    Reverse(nums)\n",
    "if __name__ == \"__main__\":\n",
    "    main()"
   ]
  },
  {
   "cell_type": "code",
   "execution_count": 7,
   "metadata": {},
   "outputs": [
    {
     "name": "stdout",
     "output_type": "stream",
     "text": [
      "True\n"
     ]
    }
   ],
   "source": [
    "# palindrome\n",
    "def isPalindrome(num):\n",
    "    if num < 0 or (num % 10==0 and num != 0):\n",
    "        return False\n",
    "    \n",
    "    rev = 0\n",
    "    while num > rev:\n",
    "        rem = num % 10\n",
    "        rev = rev * 10 + rem\n",
    "        num = num // 10\n",
    "\n",
    "    return num == rev or num == rev // 10\n",
    "\n",
    "def main():\n",
    "    num = int(input(\"Enter numbers : \\n\"))\n",
    "    ans = isPalindrome(num)\n",
    "    print(ans)\n",
    "\n",
    "if __name__ == \"__main__\":\n",
    "    main()"
   ]
  }
 ],
 "metadata": {
  "kernelspec": {
   "display_name": "Python 3",
   "language": "python",
   "name": "python3"
  },
  "language_info": {
   "codemirror_mode": {
    "name": "ipython",
    "version": 3
   },
   "file_extension": ".py",
   "mimetype": "text/x-python",
   "name": "python",
   "nbconvert_exporter": "python",
   "pygments_lexer": "ipython3",
   "version": "3.9.18"
  }
 },
 "nbformat": 4,
 "nbformat_minor": 2
}
